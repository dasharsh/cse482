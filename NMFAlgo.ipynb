{
 "cells": [
  {
   "cell_type": "markdown",
   "metadata": {},
   "source": [
    "# CSE 482 Project"
   ]
  },
  {
   "cell_type": "code",
   "execution_count": 15,
   "metadata": {},
   "outputs": [
    {
     "data": {
      "text/plain": [
       "[('1', '1000026', 91.0, None),\n",
       " ('1', '1000084', 1.0, None),\n",
       " ('1', '1000125', 101.0, None),\n",
       " ('1', '1000152', 1.0, None),\n",
       " ('1', '1000202', 1.0, None),\n",
       " ('1', '1000247', 41.0, None),\n",
       " ('1', '1000264', 51.0, None),\n",
       " ('1', '1000276', 46.0, None),\n",
       " ('1', '1000335', 1.0, None),\n",
       " ('1', '1000353', 1.0, None)]"
      ]
     },
     "execution_count": 15,
     "metadata": {},
     "output_type": "execute_result"
    }
   ],
   "source": [
    "from surprise import Dataset\n",
    "from surprise import Reader\n",
    "\n",
    "reader = Reader(line_format='user item rating', sep=',', rating_scale=(0,100))\n",
    "data = Dataset.load_from_file('finalUserData.csv', reader=reader)\n",
    "data.raw_ratings[:10]"
   ]
  },
  {
   "cell_type": "code",
   "execution_count": 16,
   "metadata": {},
   "outputs": [
    {
     "data": {
      "text/plain": [
       "<surprise.prediction_algorithms.matrix_factorization.NMF at 0x216558237b8>"
      ]
     },
     "execution_count": 16,
     "metadata": {},
     "output_type": "execute_result"
    }
   ],
   "source": [
    "from surprise import NMF\n",
    "from surprise.model_selection import train_test_split\n",
    "\n",
    "trainset, testset = train_test_split(data, test_size=.20, random_state=1)\n",
    "\n",
    "algo = NMF(n_factors=50, n_epochs=500, random_state=1)\n",
    "algo.fit(trainset)"
   ]
  },
  {
   "cell_type": "code",
   "execution_count": 17,
   "metadata": {},
   "outputs": [
    {
     "name": "stdout",
     "output_type": "stream",
     "text": [
      "RMSE: 30.6543\n",
      "MAE:  18.8984\n"
     ]
    },
    {
     "data": {
      "text/plain": [
       "(30.654339516307726, 18.89840391405193)"
      ]
     },
     "execution_count": 17,
     "metadata": {},
     "output_type": "execute_result"
    }
   ],
   "source": [
    "from surprise import accuracy\n",
    "\n",
    "pred = algo.test(testset)\n",
    "accuracy.rmse(pred), accuracy.mae(pred)\n"
   ]
  },
  {
   "cell_type": "code",
   "execution_count": 18,
   "metadata": {},
   "outputs": [
    {
     "name": "stdout",
     "output_type": "stream",
     "text": [
      "user: 18         item: 1020935    r_ui = 60.00   est = 13.41   {'was_impossible': False}\n",
      "user: 115        item: 1025437    r_ui = 0.00   est = 23.13   {'was_impossible': False}\n",
      "user: 172        item: 1035342    r_ui = 100.00   est = 19.82   {'was_impossible': False}\n",
      "user: 138        item: 1011644    r_ui = 0.00   est = 0.00   {'was_impossible': False}\n",
      "user: 113        item: 1017101    r_ui = 0.00   est = 0.00   {'was_impossible': False}\n"
     ]
    }
   ],
   "source": [
    "for i in range(5):\n",
    "    print(pred[i])"
   ]
  },
  {
   "cell_type": "code",
   "execution_count": null,
   "metadata": {},
   "outputs": [],
   "source": [
    "#code taken from cse 482 lecture notes"
   ]
  }
 ],
 "metadata": {
  "kernelspec": {
   "display_name": "Python 3",
   "language": "python",
   "name": "python3"
  },
  "language_info": {
   "codemirror_mode": {
    "name": "ipython",
    "version": 3
   },
   "file_extension": ".py",
   "mimetype": "text/x-python",
   "name": "python",
   "nbconvert_exporter": "python",
   "pygments_lexer": "ipython3",
   "version": "3.6.4"
  }
 },
 "nbformat": 4,
 "nbformat_minor": 2
}
