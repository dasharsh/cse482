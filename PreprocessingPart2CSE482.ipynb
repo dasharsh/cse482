{
 "cells": [
  {
   "cell_type": "code",
   "execution_count": null,
   "metadata": {},
   "outputs": [],
   "source": [
    "# CSE 482 Project"
   ]
  },
  {
   "cell_type": "code",
   "execution_count": 36,
   "metadata": {
    "scrolled": true
   },
   "outputs": [
    {
     "name": "stdout",
     "output_type": "stream",
     "text": [
      "383\n",
      "119894\n"
     ]
    }
   ],
   "source": [
    "from collections import defaultdict\n",
    "\n",
    "file1 = open('finalUserData.csv', 'r')\n",
    "users = dict()\n",
    "info = defaultdict(list)\n",
    "artist = dict()\n",
    "info2 = defaultdict(list)\n",
    "count = 0\n",
    "lcnt = 0\n",
    "for line in file1:\n",
    "    lcnt+=1\n",
    "    temp = line.strip().split(',')\n",
    "    if temp[0] not in users.keys():\n",
    "        users[temp[0]] = 1\n",
    "    if temp[0] in users.keys():\n",
    "        users[temp[0]] += 1\n",
    "    if temp[1] not in artist.keys():\n",
    "        artist[temp[1]] = 1\n",
    "    if temp[1] in artist.keys():\n",
    "        artist[temp[1]] += 1\n",
    "    new_line=line.strip()\n",
    "    info[temp[0]].append(new_line)\n",
    "    info2[temp[1]].append(new_line)\n",
    "    \n",
    "    \n",
    "#print(lcnt)\n",
    "\n",
    "users = { k : v for k,v in users.items() if v > 1200}\n",
    "artist = { k : v for k,v in artist.items() if v > 100}\n",
    "\n",
    "\n",
    "newcnt=0\n",
    "tempDict=dict()\n",
    "file2 = open('smallerUsers.csv', 'w')\n",
    "for key in users:\n",
    "    for key2 in info:\n",
    "        if key == key2:\n",
    "            file2.write('\\n'.join(info[key2]))\n",
    "            tempDict[key] = info[key2]\n",
    "#print(tempDict)\n",
    "newDict=dict()            \n",
    "for key in artist:\n",
    "    for key2 in info2:\n",
    "        if key == key2:\n",
    "            newDict[key] = info2[key2]\n",
    "print(len(newDict.keys()))\n",
    "             \n",
    "\n",
    "file2.close()\n",
    "file2 = open('smallerUsers.csv', 'r')\n",
    "file3 = open('trueRatings.csv', 'w')\n",
    "for line in file2:\n",
    "    newcnt+=1\n",
    "    temp = line.strip().split(',')\n",
    "    if int(temp[2]) < 100:\n",
    "        file3.write(line)\n",
    "file3.close()\n",
    "print(newcnt) \n",
    "\n",
    "cnt=0\n",
    "userval=0\n",
    "li=[]\n",
    "file3 = open('trueRatings.csv', 'r')\n",
    "for line in file3:\n",
    "    new = line.strip().split(',')[0]\n",
    "    cnt+=1\n",
    "    if new not in li:\n",
    "        li.append(new)\n",
    "        userval+=1\n",
    "file3.close()\n",
    "#print(cnt)\n",
    "#print(userval)"
   ]
  },
  {
   "cell_type": "code",
   "execution_count": null,
   "metadata": {},
   "outputs": [],
   "source": []
  }
 ],
 "metadata": {
  "kernelspec": {
   "display_name": "Python 3",
   "language": "python",
   "name": "python3"
  },
  "language_info": {
   "codemirror_mode": {
    "name": "ipython",
    "version": 3
   },
   "file_extension": ".py",
   "mimetype": "text/x-python",
   "name": "python",
   "nbconvert_exporter": "python",
   "pygments_lexer": "ipython3",
   "version": "3.6.4"
  }
 },
 "nbformat": 4,
 "nbformat_minor": 2
}
