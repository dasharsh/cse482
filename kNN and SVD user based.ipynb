{
 "cells": [
  {
   "cell_type": "code",
   "execution_count": 49,
   "metadata": {},
   "outputs": [
    {
     "data": {
      "text/html": [
       "<div>\n",
       "<style scoped>\n",
       "    .dataframe tbody tr th:only-of-type {\n",
       "        vertical-align: middle;\n",
       "    }\n",
       "\n",
       "    .dataframe tbody tr th {\n",
       "        vertical-align: top;\n",
       "    }\n",
       "\n",
       "    .dataframe thead th {\n",
       "        text-align: right;\n",
       "    }\n",
       "</style>\n",
       "<table border=\"1\" class=\"dataframe\">\n",
       "  <thead>\n",
       "    <tr style=\"text-align: right;\">\n",
       "      <th></th>\n",
       "      <th>UserID</th>\n",
       "      <th>totalUserRatingCount</th>\n",
       "    </tr>\n",
       "  </thead>\n",
       "  <tbody>\n",
       "    <tr>\n",
       "      <th>0</th>\n",
       "      <td>1</td>\n",
       "      <td>522</td>\n",
       "    </tr>\n",
       "    <tr>\n",
       "      <th>1</th>\n",
       "      <td>2</td>\n",
       "      <td>501</td>\n",
       "    </tr>\n",
       "    <tr>\n",
       "      <th>2</th>\n",
       "      <td>3</td>\n",
       "      <td>689</td>\n",
       "    </tr>\n",
       "    <tr>\n",
       "      <th>3</th>\n",
       "      <td>4</td>\n",
       "      <td>557</td>\n",
       "    </tr>\n",
       "    <tr>\n",
       "      <th>4</th>\n",
       "      <td>5</td>\n",
       "      <td>710</td>\n",
       "    </tr>\n",
       "  </tbody>\n",
       "</table>\n",
       "</div>"
      ],
      "text/plain": [
       "   UserID  totalUserRatingCount\n",
       "0       1                   522\n",
       "1       2                   501\n",
       "2       3                   689\n",
       "3       4                   557\n",
       "4       5                   710"
      ]
     },
     "execution_count": 49,
     "metadata": {},
     "output_type": "execute_result"
    }
   ],
   "source": [
    "import pandas as pd\n",
    "import numpy as np\n",
    "from scipy.sparse import csr_matrix\n",
    "import sklearn\n",
    "from sklearn.decomposition import TruncatedSVD\n",
    "import matplotlib.pyplot as plt\n",
    "from collections import defaultdict\n",
    "\n",
    "artist_list = [i.strip().split('\\t') for i in open('out.txt', 'r', encoding=\"utf8\").readlines()]\n",
    "artist_df = pd.DataFrame(artist_list, columns = ['ArtistID', 'ArtistName'])\n",
    "artist_df['ArtistID'] = artist_df['ArtistID'].apply(pd.to_numeric)\n",
    "\n",
    "#print(artist_df.head())\n",
    "\n",
    "rating = pd.read_csv('finalUserData.csv', sep=',', header=None, dtype=int)\n",
    "rating.columns = ['UserID', 'ArtistID', 'Rating']\n",
    "#print(rating.head())\n",
    "\n",
    "rat = pd.merge(rating, artist_df, on='ArtistID')\n",
    "columns = ['ArtistID', 'ArtistName', 'UserID', 'Rating']\n",
    "rat.head()\n",
    "\n",
    "rat = rat.dropna(axis=0, subset=['UserID'])\n",
    "user_ratingCount = (rat.groupby(by = ['UserID'])['Rating'].\n",
    "                     count().\n",
    "                     reset_index().\n",
    "                     rename(columns = {'Rating': 'totalUserRatingCount'})\n",
    "                     [['UserID', 'totalUserRatingCount']]\n",
    "                     )\n",
    "user_ratingCount.head()"
   ]
  },
  {
   "cell_type": "code",
   "execution_count": 50,
   "metadata": {},
   "outputs": [
    {
     "data": {
      "text/html": [
       "<div>\n",
       "<style scoped>\n",
       "    .dataframe tbody tr th:only-of-type {\n",
       "        vertical-align: middle;\n",
       "    }\n",
       "\n",
       "    .dataframe tbody tr th {\n",
       "        vertical-align: top;\n",
       "    }\n",
       "\n",
       "    .dataframe thead th {\n",
       "        text-align: right;\n",
       "    }\n",
       "</style>\n",
       "<table border=\"1\" class=\"dataframe\">\n",
       "  <thead>\n",
       "    <tr style=\"text-align: right;\">\n",
       "      <th></th>\n",
       "      <th>UserID</th>\n",
       "      <th>ArtistID</th>\n",
       "      <th>Rating</th>\n",
       "      <th>ArtistName</th>\n",
       "      <th>totalUserRatingCount</th>\n",
       "    </tr>\n",
       "  </thead>\n",
       "  <tbody>\n",
       "    <tr>\n",
       "      <th>0</th>\n",
       "      <td>1</td>\n",
       "      <td>1000026</td>\n",
       "      <td>90</td>\n",
       "      <td>112</td>\n",
       "      <td>522</td>\n",
       "    </tr>\n",
       "    <tr>\n",
       "      <th>1</th>\n",
       "      <td>1</td>\n",
       "      <td>1000084</td>\n",
       "      <td>0</td>\n",
       "      <td>The 2 Live Crew</td>\n",
       "      <td>522</td>\n",
       "    </tr>\n",
       "    <tr>\n",
       "      <th>2</th>\n",
       "      <td>1</td>\n",
       "      <td>1000125</td>\n",
       "      <td>100</td>\n",
       "      <td>2Pac</td>\n",
       "      <td>522</td>\n",
       "    </tr>\n",
       "    <tr>\n",
       "      <th>3</th>\n",
       "      <td>1</td>\n",
       "      <td>1000152</td>\n",
       "      <td>0</td>\n",
       "      <td>3rd Bass</td>\n",
       "      <td>522</td>\n",
       "    </tr>\n",
       "    <tr>\n",
       "      <th>4</th>\n",
       "      <td>1</td>\n",
       "      <td>1000202</td>\n",
       "      <td>0</td>\n",
       "      <td>702</td>\n",
       "      <td>522</td>\n",
       "    </tr>\n",
       "  </tbody>\n",
       "</table>\n",
       "</div>"
      ],
      "text/plain": [
       "   UserID  ArtistID  Rating       ArtistName  totalUserRatingCount\n",
       "0       1   1000026      90              112                   522\n",
       "1       1   1000084       0  The 2 Live Crew                   522\n",
       "2       1   1000125     100             2Pac                   522\n",
       "3       1   1000152       0         3rd Bass                   522\n",
       "4       1   1000202       0              702                   522"
      ]
     },
     "execution_count": 50,
     "metadata": {},
     "output_type": "execute_result"
    }
   ],
   "source": [
    "rating_with_totalRatCount = rat.merge(user_ratingCount, left_on='UserID', right_on='UserID')\n",
    "rating_with_totalRatCount.head()"
   ]
  },
  {
   "cell_type": "code",
   "execution_count": 51,
   "metadata": {},
   "outputs": [
    {
     "name": "stdout",
     "output_type": "stream",
     "text": [
      "count    200.000\n",
      "mean    1147.085\n",
      "std     1140.344\n",
      "min      501.000\n",
      "25%      594.250\n",
      "50%      807.500\n",
      "75%     1230.750\n",
      "max     8808.000\n",
      "Name: totalUserRatingCount, dtype: float64\n"
     ]
    }
   ],
   "source": [
    "pd.set_option('display.float_format', lambda x: '%.3f' %x)\n",
    "print(user_ratingCount['totalUserRatingCount'].describe())"
   ]
  },
  {
   "cell_type": "code",
   "execution_count": 52,
   "metadata": {},
   "outputs": [
    {
     "name": "stdout",
     "output_type": "stream",
     "text": [
      "0.900   1793.900\n",
      "0.910   1905.880\n",
      "0.920   2017.240\n",
      "0.930   2073.310\n",
      "0.940   2149.160\n",
      "0.950   2366.700\n",
      "0.960   2851.080\n",
      "0.970   3622.620\n",
      "0.980   5262.560\n",
      "0.990   7627.620\n",
      "Name: totalUserRatingCount, dtype: float64\n"
     ]
    },
    {
     "data": {
      "text/plain": [
       "(None,)"
      ]
     },
     "execution_count": 52,
     "metadata": {},
     "output_type": "execute_result"
    }
   ],
   "source": [
    "print(user_ratingCount['totalUserRatingCount'].quantile(np.arange(0.9,1,0.01))),"
   ]
  },
  {
   "cell_type": "code",
   "execution_count": 53,
   "metadata": {},
   "outputs": [
    {
     "data": {
      "text/html": [
       "<div>\n",
       "<style scoped>\n",
       "    .dataframe tbody tr th:only-of-type {\n",
       "        vertical-align: middle;\n",
       "    }\n",
       "\n",
       "    .dataframe tbody tr th {\n",
       "        vertical-align: top;\n",
       "    }\n",
       "\n",
       "    .dataframe thead th {\n",
       "        text-align: right;\n",
       "    }\n",
       "</style>\n",
       "<table border=\"1\" class=\"dataframe\">\n",
       "  <thead>\n",
       "    <tr style=\"text-align: right;\">\n",
       "      <th></th>\n",
       "      <th>UserID</th>\n",
       "      <th>ArtistID</th>\n",
       "      <th>Rating</th>\n",
       "      <th>ArtistName</th>\n",
       "      <th>totalUserRatingCount</th>\n",
       "    </tr>\n",
       "  </thead>\n",
       "  <tbody>\n",
       "    <tr>\n",
       "      <th>7737</th>\n",
       "      <td>18</td>\n",
       "      <td>1000026</td>\n",
       "      <td>60</td>\n",
       "      <td>112</td>\n",
       "      <td>7623</td>\n",
       "    </tr>\n",
       "    <tr>\n",
       "      <th>7738</th>\n",
       "      <td>18</td>\n",
       "      <td>1000084</td>\n",
       "      <td>60</td>\n",
       "      <td>The 2 Live Crew</td>\n",
       "      <td>7623</td>\n",
       "    </tr>\n",
       "    <tr>\n",
       "      <th>7739</th>\n",
       "      <td>18</td>\n",
       "      <td>1000125</td>\n",
       "      <td>50</td>\n",
       "      <td>2Pac</td>\n",
       "      <td>7623</td>\n",
       "    </tr>\n",
       "    <tr>\n",
       "      <th>7740</th>\n",
       "      <td>18</td>\n",
       "      <td>1000202</td>\n",
       "      <td>60</td>\n",
       "      <td>702</td>\n",
       "      <td>7623</td>\n",
       "    </tr>\n",
       "    <tr>\n",
       "      <th>7741</th>\n",
       "      <td>18</td>\n",
       "      <td>1000247</td>\n",
       "      <td>60</td>\n",
       "      <td>A Tribe Called Quest</td>\n",
       "      <td>7623</td>\n",
       "    </tr>\n",
       "  </tbody>\n",
       "</table>\n",
       "</div>"
      ],
      "text/plain": [
       "      UserID  ArtistID  Rating            ArtistName  totalUserRatingCount\n",
       "7737      18   1000026      60                   112                  7623\n",
       "7738      18   1000084      60       The 2 Live Crew                  7623\n",
       "7739      18   1000125      50                  2Pac                  7623\n",
       "7740      18   1000202      60                   702                  7623\n",
       "7741      18   1000247      60  A Tribe Called Quest                  7623"
      ]
     },
     "execution_count": 53,
     "metadata": {},
     "output_type": "execute_result"
    }
   ],
   "source": [
    "pop_threshold = 2000\n",
    "rating_popular_user = rating_with_totalRatCount.query('totalUserRatingCount >= @pop_threshold')\n",
    "rating_popular_user.head()"
   ]
  },
  {
   "cell_type": "code",
   "execution_count": 54,
   "metadata": {},
   "outputs": [],
   "source": [
    "list(rating_popular_user)\n",
    "rating_pivot = rating_popular_user.pivot_table(index = 'UserID', columns='ArtistName', values='Rating').fillna(0)\n",
    "rating_pivot.head()\n",
    "rating_matrix = csr_matrix(rating_pivot.values)"
   ]
  },
  {
   "cell_type": "code",
   "execution_count": 55,
   "metadata": {},
   "outputs": [
    {
     "data": {
      "text/plain": [
       "NearestNeighbors(algorithm='brute', leaf_size=30, metric='cosine',\n",
       "         metric_params=None, n_jobs=1, n_neighbors=5, p=2, radius=1.0)"
      ]
     },
     "execution_count": 55,
     "metadata": {},
     "output_type": "execute_result"
    }
   ],
   "source": [
    "from sklearn.neighbors import NearestNeighbors\n",
    "\n",
    "model_knn = NearestNeighbors(metric='cosine', algorithm='brute')\n",
    "model_knn.fit(rating_matrix)"
   ]
  },
  {
   "cell_type": "code",
   "execution_count": 56,
   "metadata": {},
   "outputs": [
    {
     "name": "stdout",
     "output_type": "stream",
     "text": [
      "\n",
      "Similar user Recommendations for 11:\n",
      "\n",
      "1: 36, with distance of 0.5363391160393711:\n",
      "2: 28, with distance of 0.5566433855826668:\n",
      "3: 60, with distance of 0.5938401431120763:\n",
      "\n",
      "Similar user Recommendations for 13:\n",
      "\n",
      "1: 197, with distance of 0.6764928448179708:\n",
      "2: 60, with distance of 0.7281161325135216:\n",
      "3: 11, with distance of 0.750287803259059:\n",
      "\n",
      "Similar user Recommendations for 18:\n",
      "\n",
      "1: 168, with distance of 0.49701730199892047:\n",
      "2: 60, with distance of 0.5093601940189851:\n",
      "3: 28, with distance of 0.5226978791207193:\n",
      "\n",
      "Similar user Recommendations for 28:\n",
      "\n",
      "1: 60, with distance of 0.5009784616893814:\n",
      "2: 18, with distance of 0.5226978791207193:\n",
      "3: 11, with distance of 0.5566433855826668:\n",
      "\n",
      "Similar user Recommendations for 36:\n",
      "\n",
      "1: 11, with distance of 0.5363391160393711:\n",
      "2: 28, with distance of 0.585399213776681:\n",
      "3: 60, with distance of 0.6074408045784383:\n",
      "\n",
      "Similar user Recommendations for 38:\n",
      "\n",
      "1: 11, with distance of 0.7476118333698127:\n",
      "2: 36, with distance of 0.7634263418049473:\n",
      "3: 197, with distance of 0.8043016767083162:\n",
      "\n",
      "Similar user Recommendations for 60:\n",
      "\n",
      "1: 28, with distance of 0.5009784616893814:\n",
      "2: 18, with distance of 0.5093601940189851:\n",
      "3: 148, with distance of 0.530435955086426:\n",
      "\n",
      "Similar user Recommendations for 71:\n",
      "\n",
      "1: 11, with distance of 0.6417266444234094:\n",
      "2: 36, with distance of 0.6445084437362127:\n",
      "3: 148, with distance of 0.716663459415998:\n",
      "\n",
      "Similar user Recommendations for 111:\n",
      "\n",
      "1: 11, with distance of 0.8117689300025287:\n",
      "2: 197, with distance of 0.8145013328467869:\n",
      "3: 36, with distance of 0.8196201609803668:\n",
      "\n",
      "Similar user Recommendations for 113:\n",
      "\n",
      "1: 18, with distance of 0.9314409491804602:\n",
      "2: 168, with distance of 0.9532364315342344:\n",
      "3: 13, with distance of 0.9673006554650733:\n",
      "\n",
      "Similar user Recommendations for 133:\n",
      "\n",
      "1: 60, with distance of 0.8280783614808946:\n",
      "2: 18, with distance of 0.8395093089484333:\n",
      "3: 28, with distance of 0.8568273621801052:\n",
      "\n",
      "Similar user Recommendations for 148:\n",
      "\n",
      "1: 60, with distance of 0.530435955086426:\n",
      "2: 36, with distance of 0.6106685089897625:\n",
      "3: 197, with distance of 0.6612952816391707:\n",
      "\n",
      "Similar user Recommendations for 150:\n",
      "\n",
      "1: 173, with distance of 0.600091642418209:\n",
      "2: 18, with distance of 0.6449820807923765:\n",
      "3: 60, with distance of 0.6564565063228266:\n",
      "\n",
      "Similar user Recommendations for 168:\n",
      "\n",
      "1: 18, with distance of 0.49701730199892047:\n",
      "2: 60, with distance of 0.6734748054798239:\n",
      "3: 28, with distance of 0.6747878362888693:\n",
      "\n",
      "Similar user Recommendations for 173:\n",
      "\n",
      "1: 150, with distance of 0.600091642418209:\n",
      "2: 18, with distance of 0.6451843723087912:\n",
      "3: 60, with distance of 0.6706336718873258:\n",
      "\n",
      "Similar user Recommendations for 175:\n",
      "\n",
      "1: 71, with distance of 0.8687210048409667:\n",
      "2: 38, with distance of 0.8840115910744298:\n",
      "3: 60, with distance of 0.8985447621517513:\n",
      "\n",
      "Similar user Recommendations for 197:\n",
      "\n",
      "1: 60, with distance of 0.6426662712872078:\n",
      "2: 148, with distance of 0.6612952816391707:\n",
      "3: 13, with distance of 0.6764928448179708:\n"
     ]
    }
   ],
   "source": [
    "list_query_index  = []\n",
    "for i in range (0, rating_pivot.shape[0]):\n",
    "    list_query_index.append(i)\n",
    "\n",
    "dict_analysis = dict()\n",
    "for j in list_query_index:\n",
    "\n",
    "    query_index = j #np.random.choice(rating_pivot.shape[0])\n",
    "    \n",
    "    distances, indices = model_knn.kneighbors(rating_pivot.iloc[query_index,:].values.reshape(1,-1), n_neighbors=4)\n",
    "\n",
    "    for i in range (0, len(distances.flatten())):\n",
    "        if i ==0:\n",
    "            print()\n",
    "            print('Similar user Recommendations for {0}:\\n'.format(rating_pivot.index[query_index]))\n",
    "            dict_analysis[rating_pivot.index[query_index]]=[]\n",
    "        else:\n",
    "            print('{0}: {1}, with distance of {2}:'.format(i, rating_pivot.index[indices.flatten()[i]], distances.flatten()[i]))\n",
    "            dict_analysis[rating_pivot.index[query_index]].append(rating_pivot.index[indices.flatten()[i]])"
   ]
  },
  {
   "cell_type": "code",
   "execution_count": null,
   "metadata": {},
   "outputs": [],
   "source": []
  },
  {
   "cell_type": "code",
   "execution_count": 57,
   "metadata": {},
   "outputs": [
    {
     "data": {
      "text/html": [
       "<div>\n",
       "<style scoped>\n",
       "    .dataframe tbody tr th:only-of-type {\n",
       "        vertical-align: middle;\n",
       "    }\n",
       "\n",
       "    .dataframe tbody tr th {\n",
       "        vertical-align: top;\n",
       "    }\n",
       "\n",
       "    .dataframe thead th {\n",
       "        text-align: right;\n",
       "    }\n",
       "</style>\n",
       "<table border=\"1\" class=\"dataframe\">\n",
       "  <thead>\n",
       "    <tr style=\"text-align: right;\">\n",
       "      <th>UserID</th>\n",
       "      <th>11</th>\n",
       "      <th>13</th>\n",
       "      <th>18</th>\n",
       "      <th>28</th>\n",
       "      <th>36</th>\n",
       "      <th>38</th>\n",
       "      <th>60</th>\n",
       "      <th>71</th>\n",
       "      <th>111</th>\n",
       "      <th>113</th>\n",
       "      <th>133</th>\n",
       "      <th>148</th>\n",
       "      <th>150</th>\n",
       "      <th>168</th>\n",
       "      <th>173</th>\n",
       "      <th>175</th>\n",
       "      <th>197</th>\n",
       "    </tr>\n",
       "    <tr>\n",
       "      <th>ArtistName</th>\n",
       "      <th></th>\n",
       "      <th></th>\n",
       "      <th></th>\n",
       "      <th></th>\n",
       "      <th></th>\n",
       "      <th></th>\n",
       "      <th></th>\n",
       "      <th></th>\n",
       "      <th></th>\n",
       "      <th></th>\n",
       "      <th></th>\n",
       "      <th></th>\n",
       "      <th></th>\n",
       "      <th></th>\n",
       "      <th></th>\n",
       "      <th></th>\n",
       "      <th></th>\n",
       "    </tr>\n",
       "  </thead>\n",
       "  <tbody>\n",
       "    <tr>\n",
       "      <th>!!!</th>\n",
       "      <td>0.000</td>\n",
       "      <td>0.000</td>\n",
       "      <td>60.000</td>\n",
       "      <td>0.000</td>\n",
       "      <td>0.000</td>\n",
       "      <td>0.000</td>\n",
       "      <td>0.000</td>\n",
       "      <td>0.000</td>\n",
       "      <td>0.000</td>\n",
       "      <td>0.000</td>\n",
       "      <td>0.000</td>\n",
       "      <td>0.000</td>\n",
       "      <td>0.000</td>\n",
       "      <td>70.000</td>\n",
       "      <td>50.000</td>\n",
       "      <td>0.000</td>\n",
       "      <td>0.000</td>\n",
       "    </tr>\n",
       "    <tr>\n",
       "      <th>'68 Comeback</th>\n",
       "      <td>0.000</td>\n",
       "      <td>0.000</td>\n",
       "      <td>0.000</td>\n",
       "      <td>0.000</td>\n",
       "      <td>0.000</td>\n",
       "      <td>0.000</td>\n",
       "      <td>0.000</td>\n",
       "      <td>0.000</td>\n",
       "      <td>0.000</td>\n",
       "      <td>0.000</td>\n",
       "      <td>0.000</td>\n",
       "      <td>0.000</td>\n",
       "      <td>0.000</td>\n",
       "      <td>20.000</td>\n",
       "      <td>0.000</td>\n",
       "      <td>0.000</td>\n",
       "      <td>0.000</td>\n",
       "    </tr>\n",
       "    <tr>\n",
       "      <th>'Til Tuesday</th>\n",
       "      <td>50.000</td>\n",
       "      <td>30.000</td>\n",
       "      <td>50.000</td>\n",
       "      <td>80.000</td>\n",
       "      <td>20.000</td>\n",
       "      <td>0.000</td>\n",
       "      <td>0.000</td>\n",
       "      <td>10.000</td>\n",
       "      <td>0.000</td>\n",
       "      <td>0.000</td>\n",
       "      <td>0.000</td>\n",
       "      <td>100.000</td>\n",
       "      <td>0.000</td>\n",
       "      <td>100.000</td>\n",
       "      <td>30.000</td>\n",
       "      <td>0.000</td>\n",
       "      <td>0.000</td>\n",
       "    </tr>\n",
       "    <tr>\n",
       "      <th>(Hed) P.E.</th>\n",
       "      <td>0.000</td>\n",
       "      <td>0.000</td>\n",
       "      <td>60.000</td>\n",
       "      <td>0.000</td>\n",
       "      <td>0.000</td>\n",
       "      <td>0.000</td>\n",
       "      <td>90.000</td>\n",
       "      <td>0.000</td>\n",
       "      <td>0.000</td>\n",
       "      <td>0.000</td>\n",
       "      <td>0.000</td>\n",
       "      <td>100.000</td>\n",
       "      <td>0.000</td>\n",
       "      <td>0.000</td>\n",
       "      <td>0.000</td>\n",
       "      <td>0.000</td>\n",
       "      <td>0.000</td>\n",
       "    </tr>\n",
       "    <tr>\n",
       "      <th>*NSYNC</th>\n",
       "      <td>50.000</td>\n",
       "      <td>0.000</td>\n",
       "      <td>60.000</td>\n",
       "      <td>60.000</td>\n",
       "      <td>20.000</td>\n",
       "      <td>0.000</td>\n",
       "      <td>0.000</td>\n",
       "      <td>50.000</td>\n",
       "      <td>0.000</td>\n",
       "      <td>0.000</td>\n",
       "      <td>0.000</td>\n",
       "      <td>0.000</td>\n",
       "      <td>0.000</td>\n",
       "      <td>12.000</td>\n",
       "      <td>0.000</td>\n",
       "      <td>0.000</td>\n",
       "      <td>0.000</td>\n",
       "    </tr>\n",
       "  </tbody>\n",
       "</table>\n",
       "</div>"
      ],
      "text/plain": [
       "UserID          11     13     18     28     36    38     60     71    111  \\\n",
       "ArtistName                                                                  \n",
       "!!!           0.000  0.000 60.000  0.000  0.000 0.000  0.000  0.000 0.000   \n",
       "'68 Comeback  0.000  0.000  0.000  0.000  0.000 0.000  0.000  0.000 0.000   \n",
       "'Til Tuesday 50.000 30.000 50.000 80.000 20.000 0.000  0.000 10.000 0.000   \n",
       "(Hed) P.E.    0.000  0.000 60.000  0.000  0.000 0.000 90.000  0.000 0.000   \n",
       "*NSYNC       50.000  0.000 60.000 60.000 20.000 0.000  0.000 50.000 0.000   \n",
       "\n",
       "UserID         113   133     148   150     168    173   175   197  \n",
       "ArtistName                                                         \n",
       "!!!          0.000 0.000   0.000 0.000  70.000 50.000 0.000 0.000  \n",
       "'68 Comeback 0.000 0.000   0.000 0.000  20.000  0.000 0.000 0.000  \n",
       "'Til Tuesday 0.000 0.000 100.000 0.000 100.000 30.000 0.000 0.000  \n",
       "(Hed) P.E.   0.000 0.000 100.000 0.000   0.000  0.000 0.000 0.000  \n",
       "*NSYNC       0.000 0.000   0.000 0.000  12.000  0.000 0.000 0.000  "
      ]
     },
     "execution_count": 57,
     "metadata": {},
     "output_type": "execute_result"
    }
   ],
   "source": [
    "rating_pivot2 = rating_popular_user.pivot_table(index = 'ArtistName', columns='UserID', values='Rating').fillna(0)\n",
    "rating_pivot2.head()"
   ]
  },
  {
   "cell_type": "code",
   "execution_count": 58,
   "metadata": {},
   "outputs": [
    {
     "name": "stdout",
     "output_type": "stream",
     "text": [
      "Accuracy of the kNN algorithm is:  58.82352941176471 %\n"
     ]
    }
   ],
   "source": [
    "#print(dict_analysis)\n",
    "numTotReco=0\n",
    "accur=0\n",
    "total_reco = len(dict_analysis.keys())\n",
    "#print(total_reco)\n",
    "for j in dict_analysis.keys():\n",
    "    for k in dict_analysis[j]:\n",
    "        if j in dict_analysis[k]:\n",
    "            accur += 1\n",
    "print(\"Accuracy of the kNN algorithm is: \", (accur/(2*total_reco))*100, \"%\")"
   ]
  },
  {
   "cell_type": "code",
   "execution_count": 59,
   "metadata": {},
   "outputs": [
    {
     "data": {
      "text/plain": [
       "(14991, 17)"
      ]
     },
     "execution_count": 59,
     "metadata": {},
     "output_type": "execute_result"
    }
   ],
   "source": [
    "rating_pivot2.shape"
   ]
  },
  {
   "cell_type": "code",
   "execution_count": 60,
   "metadata": {},
   "outputs": [
    {
     "data": {
      "text/plain": [
       "(17, 14991)"
      ]
     },
     "execution_count": 60,
     "metadata": {},
     "output_type": "execute_result"
    }
   ],
   "source": [
    "X = rating_pivot2.values.T\n",
    "X.shape"
   ]
  },
  {
   "cell_type": "code",
   "execution_count": 61,
   "metadata": {},
   "outputs": [
    {
     "data": {
      "text/plain": [
       "(17, 5)"
      ]
     },
     "execution_count": 61,
     "metadata": {},
     "output_type": "execute_result"
    }
   ],
   "source": [
    "import sklearn\n",
    "from sklearn.decomposition import TruncatedSVD\n",
    "\n",
    "SVD = TruncatedSVD(n_components=5, random_state=13)\n",
    "matrix = SVD.fit_transform(X)\n",
    "matrix.shape"
   ]
  },
  {
   "cell_type": "code",
   "execution_count": 62,
   "metadata": {},
   "outputs": [
    {
     "data": {
      "text/plain": [
       "(17, 17)"
      ]
     },
     "execution_count": 62,
     "metadata": {},
     "output_type": "execute_result"
    }
   ],
   "source": [
    "import warnings\n",
    "warnings.filterwarnings(\"ignore\", category=RuntimeWarning)\n",
    "corr = np.corrcoef(matrix)\n",
    "corr.shape"
   ]
  },
  {
   "cell_type": "code",
   "execution_count": 63,
   "metadata": {},
   "outputs": [
    {
     "name": "stdout",
     "output_type": "stream",
     "text": [
      "[11, 13, 18, 28, 36, 38, 60, 71, 111, 113, 133, 148, 150, 168, 173, 175, 197]\n",
      "Similar users for  11 are:  [13, 28, 36, 38, 60, 71, 111, 148, 173, 175, 197]\n",
      "Similar users for  13 are:  [11, 28, 36, 38, 60, 71, 111, 148, 173, 175, 197]\n",
      "Similar users for  18 are:  [113]\n",
      "Similar users for  28 are:  [11, 13, 36, 38, 60, 71, 111, 148, 173, 175, 197]\n",
      "Similar users for  36 are:  [11, 13, 28, 38, 60, 71, 111, 148, 173, 175, 197]\n",
      "Similar users for  38 are:  [11, 13, 28, 36, 60, 71, 111, 148, 173, 175, 197]\n",
      "Similar users for  60 are:  [11, 13, 28, 36, 38, 60, 71, 111, 148, 173, 175, 197]\n",
      "Similar users for  71 are:  [11, 13, 28, 36, 38, 60, 111, 148, 173, 175, 197]\n",
      "Similar users for  111 are:  [11, 13, 28, 36, 38, 60, 71, 148, 173, 175, 197]\n",
      "Similar users for  113 are:  [18, 113]\n",
      "Similar users for  133 are:  []\n",
      "Similar users for  148 are:  [11, 13, 28, 36, 38, 60, 71, 111, 173, 175, 197]\n",
      "Similar users for  150 are:  [150]\n",
      "Similar users for  168 are:  []\n",
      "Similar users for  173 are:  [11, 13, 28, 36, 38, 60, 71, 111, 148, 175, 197]\n",
      "Similar users for  175 are:  [11, 13, 28, 36, 38, 60, 71, 111, 148, 173, 197]\n",
      "Similar users for  197 are:  [11, 13, 28, 36, 38, 60, 71, 111, 148, 173, 175, 197]\n"
     ]
    }
   ],
   "source": [
    "user_ids = rating_pivot2.columns\n",
    "user_ids_list = list(user_ids)\n",
    "print(user_ids_list)\n",
    "dict_analysis = defaultdict(list)\n",
    "users = [11, 13, 18, 28, 36, 38, 60, 71, 111, 113, 133, 148, 150, 168, 173, 175, 197]\n",
    "\n",
    "for i in users:\n",
    "    us = user_ids_list.index(i)\n",
    "    corr_user = corr[us]\n",
    "    print(\"Similar users for \", i, \"are: \", list(user_ids[(corr_user<1.0) & (corr_user>0.9)]))\n",
    "    dict_analysis[i]=list(user_ids[(corr_user<1.0) & (corr_user>0.9)])"
   ]
  },
  {
   "cell_type": "code",
   "execution_count": 64,
   "metadata": {},
   "outputs": [
    {
     "name": "stdout",
     "output_type": "stream",
     "text": [
      "Accuracy of the SVD algorithm is:  76.47058823529412 %\n"
     ]
    }
   ],
   "source": [
    "#print(dict_analysis)\n",
    "numTotReco=0\n",
    "accur=0\n",
    "total_reco = len(dict_analysis.keys())\n",
    "#print(total_reco)\n",
    "for j in dict_analysis.keys():\n",
    "    if len(dict_analysis[j]) >= 2:\n",
    "        accur+=1           \n",
    "print(\"Accuracy of the SVD algorithm is: \", (accur/total_reco)*100, \"%\")"
   ]
  },
  {
   "cell_type": "code",
   "execution_count": null,
   "metadata": {},
   "outputs": [],
   "source": [
    "#https://towardsdatascience.com/how-did-we-build-book-recommender-systems-in-an-hour-part-2-k-nearest-neighbors-and-matrix-c04b3c2ef55c"
   ]
  },
  {
   "cell_type": "code",
   "execution_count": null,
   "metadata": {},
   "outputs": [],
   "source": []
  }
 ],
 "metadata": {
  "kernelspec": {
   "display_name": "Python 3",
   "language": "python",
   "name": "python3"
  },
  "language_info": {
   "codemirror_mode": {
    "name": "ipython",
    "version": 3
   },
   "file_extension": ".py",
   "mimetype": "text/x-python",
   "name": "python",
   "nbconvert_exporter": "python",
   "pygments_lexer": "ipython3",
   "version": "3.6.4"
  }
 },
 "nbformat": 4,
 "nbformat_minor": 2
}
