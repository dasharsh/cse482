{
 "cells": [
  {
   "cell_type": "code",
   "execution_count": null,
   "metadata": {},
   "outputs": [],
   "source": [
    "from collections import defaultdict\n",
    "users = defaultdict(int)\n",
    "artists = defaultdict(int)\n",
    "user_keep = defaultdict(list)\n",
    "artist_keep = defaultdict(list)\n",
    "\n",
    "r1_set = open(\"ydata-ymusic-user-artist-ratings-v1_0.txt\", \"r\")\n",
    "for line in r1_set:\n",
    "    temp_list = line.strip().split('\\t')\n",
    "    if (len(temp_list)) == 3:\n",
    "        users[temp_list[0]] += 1\n",
    "        artists[temp_list[1]] += 1\n",
    "        user_keep[temp_list[0]].append(line)\n",
    "        artist_keep[temp_list[1]].append(line)\n",
    "\n",
    "file1 = open(\"user1.txt\", \"w\")\n",
    "for key in users:\n",
    "    if users[key] > 500:\n",
    "        for x in user_keep[key]:\n",
    "            file1.write(x)\n",
    "file1.close()\n",
    "\n",
    "file2 = open(\"artist1.txt\", \"w\")\n",
    "for key2 in artists:\n",
    "    if artists[key2] > 500:\n",
    "        for y in artist_keep[key]:\n",
    "            file2.write(y)\n",
    "file2.close()\n"
   ]
  }
 ],
 "metadata": {
  "kernelspec": {
   "display_name": "Python 3",
   "language": "python",
   "name": "python3"
  },
  "language_info": {
   "codemirror_mode": {
    "name": "ipython",
    "version": 3
   },
   "file_extension": ".py",
   "mimetype": "text/x-python",
   "name": "python",
   "nbconvert_exporter": "python",
   "pygments_lexer": "ipython3",
   "version": "3.6.4"
  }
 },
 "nbformat": 4,
 "nbformat_minor": 2
}
